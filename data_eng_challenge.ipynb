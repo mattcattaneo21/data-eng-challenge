{
 "cells": [
  {
   "cell_type": "markdown",
   "metadata": {
    "id": "Y6XDMp69wFFd"
   },
   "source": [
    "# Data Engineering Challenge"
   ]
  },
  {
   "cell_type": "markdown",
   "metadata": {
    "id": "KUS_ZYQBAfE1"
   },
   "source": [
    "Import libraries"
   ]
  },
  {
   "cell_type": "code",
   "execution_count": 1,
   "metadata": {
    "id": "FLNE5B__AddP"
   },
   "outputs": [],
   "source": [
    "import requests\n",
    "import json\n",
    "import pandas as pd\n",
    "import sqlite3"
   ]
  },
  {
   "cell_type": "markdown",
   "metadata": {
    "id": "rgmOtIqoBSN1"
   },
   "source": [
    "## Data Ingestion"
   ]
  },
  {
   "cell_type": "markdown",
   "metadata": {
    "id": "xJtJEOJ6wKSe"
   },
   "source": [
    "Obtain the JSON data from the GitHub repository"
   ]
  },
  {
   "cell_type": "code",
   "execution_count": 2,
   "metadata": {
    "colab": {
     "base_uri": "https://localhost:8080/"
    },
    "id": "RRwjrM_ZwhZ5",
    "outputId": "93a6e90f-7357-47d4-b4d7-bd81c791f3c1"
   },
   "outputs": [
    {
     "name": "stdout",
     "output_type": "stream",
     "text": [
      "500 rows were uploaded\n",
      "\n",
      "Sample of the first row:\n",
      "{'event_id': 'f3849d71-d832-4777-b097-e38dd89477a8', 'timestamp': '2025-05-31T14:36:20.971025', 'event_type': 'comment_added', 'user_id': 'user_1', 'document_id': 'doc_4', 'comment_text': 'Comment 46'}\n"
     ]
    }
   ],
   "source": [
    "url = ' https://raw.githubusercontent.com/mattcattaneo21/data-eng-challenge/refs/heads/main/mock_event_logs.json'\n",
    "response = requests.get(url)\n",
    "data = response.json()\n",
    "\n",
    "print(str(len(data)) + ' rows were uploaded\\n')\n",
    "\n",
    "print('Sample of the first row:')\n",
    "print(data[0])"
   ]
  },
  {
   "cell_type": "markdown",
   "metadata": {
    "id": "teRRBSREAqP4"
   },
   "source": [
    "Convert JSON file into a DataFrame"
   ]
  },
  {
   "cell_type": "code",
   "execution_count": 3,
   "metadata": {
    "colab": {
     "base_uri": "https://localhost:8080/",
     "height": 206
    },
    "id": "f0h4ygYgw-2F",
    "outputId": "91514091-fbbc-40ae-f759-b99c0d7f2cdc"
   },
   "outputs": [
    {
     "data": {
      "text/html": [
       "<div>\n",
       "<style scoped>\n",
       "    .dataframe tbody tr th:only-of-type {\n",
       "        vertical-align: middle;\n",
       "    }\n",
       "\n",
       "    .dataframe tbody tr th {\n",
       "        vertical-align: top;\n",
       "    }\n",
       "\n",
       "    .dataframe thead th {\n",
       "        text-align: right;\n",
       "    }\n",
       "</style>\n",
       "<table border=\"1\" class=\"dataframe\">\n",
       "  <thead>\n",
       "    <tr style=\"text-align: right;\">\n",
       "      <th></th>\n",
       "      <th>event_id</th>\n",
       "      <th>timestamp</th>\n",
       "      <th>event_type</th>\n",
       "      <th>user_id</th>\n",
       "      <th>document_id</th>\n",
       "      <th>comment_text</th>\n",
       "      <th>shared_with</th>\n",
       "      <th>edit_length</th>\n",
       "    </tr>\n",
       "  </thead>\n",
       "  <tbody>\n",
       "    <tr>\n",
       "      <th>0</th>\n",
       "      <td>f3849d71-d832-4777-b097-e38dd89477a8</td>\n",
       "      <td>2025-05-31T14:36:20.971025</td>\n",
       "      <td>comment_added</td>\n",
       "      <td>user_1</td>\n",
       "      <td>doc_4</td>\n",
       "      <td>Comment 46</td>\n",
       "      <td>NaN</td>\n",
       "      <td>NaN</td>\n",
       "    </tr>\n",
       "    <tr>\n",
       "      <th>1</th>\n",
       "      <td>37b91816-ac0f-45f2-923a-235c99dd7ddd</td>\n",
       "      <td>2025-06-04T19:35:09.971025</td>\n",
       "      <td>document_shared</td>\n",
       "      <td>user_9</td>\n",
       "      <td>doc_1</td>\n",
       "      <td>NaN</td>\n",
       "      <td>user_5</td>\n",
       "      <td>NaN</td>\n",
       "    </tr>\n",
       "    <tr>\n",
       "      <th>2</th>\n",
       "      <td>1752d4b4-2031-4654-a91c-a286fec1209a</td>\n",
       "      <td>2025-06-07T05:19:00.971025</td>\n",
       "      <td>user_login</td>\n",
       "      <td>user_1</td>\n",
       "      <td>doc_1</td>\n",
       "      <td>NaN</td>\n",
       "      <td>NaN</td>\n",
       "      <td>NaN</td>\n",
       "    </tr>\n",
       "    <tr>\n",
       "      <th>3</th>\n",
       "      <td>1ae41ba5-f302-4fe7-b7b5-a8819880da90</td>\n",
       "      <td>2025-05-31T10:22:06.971025</td>\n",
       "      <td>document_edit</td>\n",
       "      <td>user_4</td>\n",
       "      <td>doc_1</td>\n",
       "      <td>NaN</td>\n",
       "      <td>NaN</td>\n",
       "      <td>787.0</td>\n",
       "    </tr>\n",
       "    <tr>\n",
       "      <th>4</th>\n",
       "      <td>14c274fc-b403-4cff-baa1-daeacd839b2f</td>\n",
       "      <td>2025-05-19T21:31:38.971025</td>\n",
       "      <td>document_edit</td>\n",
       "      <td>user_10</td>\n",
       "      <td>doc_2</td>\n",
       "      <td>NaN</td>\n",
       "      <td>NaN</td>\n",
       "      <td>151.0</td>\n",
       "    </tr>\n",
       "  </tbody>\n",
       "</table>\n",
       "</div>"
      ],
      "text/plain": [
       "                               event_id                   timestamp  \\\n",
       "0  f3849d71-d832-4777-b097-e38dd89477a8  2025-05-31T14:36:20.971025   \n",
       "1  37b91816-ac0f-45f2-923a-235c99dd7ddd  2025-06-04T19:35:09.971025   \n",
       "2  1752d4b4-2031-4654-a91c-a286fec1209a  2025-06-07T05:19:00.971025   \n",
       "3  1ae41ba5-f302-4fe7-b7b5-a8819880da90  2025-05-31T10:22:06.971025   \n",
       "4  14c274fc-b403-4cff-baa1-daeacd839b2f  2025-05-19T21:31:38.971025   \n",
       "\n",
       "        event_type  user_id document_id comment_text shared_with  edit_length  \n",
       "0    comment_added   user_1       doc_4   Comment 46         NaN          NaN  \n",
       "1  document_shared   user_9       doc_1          NaN      user_5          NaN  \n",
       "2       user_login   user_1       doc_1          NaN         NaN          NaN  \n",
       "3    document_edit   user_4       doc_1          NaN         NaN        787.0  \n",
       "4    document_edit  user_10       doc_2          NaN         NaN        151.0  "
      ]
     },
     "execution_count": 3,
     "metadata": {},
     "output_type": "execute_result"
    }
   ],
   "source": [
    "df = pd.DataFrame(data)\n",
    "df.head()"
   ]
  },
  {
   "cell_type": "markdown",
   "metadata": {
    "id": "Bkjq6YEzBbob"
   },
   "source": [
    "## Data Transformation"
   ]
  },
  {
   "cell_type": "markdown",
   "metadata": {
    "id": "DUlZvpsiGNVL"
   },
   "source": [
    "Divide the DataFrame into 3 normalized tables:"
   ]
  },
  {
   "cell_type": "markdown",
   "metadata": {
    "id": "-sry_xA_NKQZ"
   },
   "source": [
    "Users table"
   ]
  },
  {
   "cell_type": "code",
   "execution_count": 4,
   "metadata": {
    "colab": {
     "base_uri": "https://localhost:8080/",
     "height": 241
    },
    "id": "6ZnTJYtOAvo_",
    "outputId": "3971e8a8-870b-488a-a26e-958cac93fdeb"
   },
   "outputs": [
    {
     "name": "stdout",
     "output_type": "stream",
     "text": [
      "10 unique users\n",
      "\n"
     ]
    },
    {
     "data": {
      "text/html": [
       "<div>\n",
       "<style scoped>\n",
       "    .dataframe tbody tr th:only-of-type {\n",
       "        vertical-align: middle;\n",
       "    }\n",
       "\n",
       "    .dataframe tbody tr th {\n",
       "        vertical-align: top;\n",
       "    }\n",
       "\n",
       "    .dataframe thead th {\n",
       "        text-align: right;\n",
       "    }\n",
       "</style>\n",
       "<table border=\"1\" class=\"dataframe\">\n",
       "  <thead>\n",
       "    <tr style=\"text-align: right;\">\n",
       "      <th></th>\n",
       "      <th>user_id</th>\n",
       "    </tr>\n",
       "  </thead>\n",
       "  <tbody>\n",
       "    <tr>\n",
       "      <th>0</th>\n",
       "      <td>user_1</td>\n",
       "    </tr>\n",
       "    <tr>\n",
       "      <th>1</th>\n",
       "      <td>user_9</td>\n",
       "    </tr>\n",
       "    <tr>\n",
       "      <th>2</th>\n",
       "      <td>user_4</td>\n",
       "    </tr>\n",
       "    <tr>\n",
       "      <th>3</th>\n",
       "      <td>user_10</td>\n",
       "    </tr>\n",
       "    <tr>\n",
       "      <th>4</th>\n",
       "      <td>user_6</td>\n",
       "    </tr>\n",
       "  </tbody>\n",
       "</table>\n",
       "</div>"
      ],
      "text/plain": [
       "   user_id\n",
       "0   user_1\n",
       "1   user_9\n",
       "2   user_4\n",
       "3  user_10\n",
       "4   user_6"
      ]
     },
     "execution_count": 4,
     "metadata": {},
     "output_type": "execute_result"
    }
   ],
   "source": [
    "# Users table without duplicates\n",
    "users_df = pd.DataFrame(df['user_id'].unique(), columns=['user_id'])\n",
    "\n",
    "# Check the quantity of Users\n",
    "print(f'{len(users_df)} unique users\\n')\n",
    "users_df.head()"
   ]
  },
  {
   "cell_type": "markdown",
   "metadata": {
    "id": "GCayb_QJNNDL"
   },
   "source": [
    "Documents table"
   ]
  },
  {
   "cell_type": "code",
   "execution_count": 5,
   "metadata": {
    "colab": {
     "base_uri": "https://localhost:8080/",
     "height": 241
    },
    "id": "JqSFQ_9FHNOA",
    "outputId": "4230a0f5-2f05-4a0c-a954-dcddc55fa9a5"
   },
   "outputs": [
    {
     "name": "stdout",
     "output_type": "stream",
     "text": [
      "5 unique documents\n",
      "\n"
     ]
    },
    {
     "data": {
      "text/html": [
       "<div>\n",
       "<style scoped>\n",
       "    .dataframe tbody tr th:only-of-type {\n",
       "        vertical-align: middle;\n",
       "    }\n",
       "\n",
       "    .dataframe tbody tr th {\n",
       "        vertical-align: top;\n",
       "    }\n",
       "\n",
       "    .dataframe thead th {\n",
       "        text-align: right;\n",
       "    }\n",
       "</style>\n",
       "<table border=\"1\" class=\"dataframe\">\n",
       "  <thead>\n",
       "    <tr style=\"text-align: right;\">\n",
       "      <th></th>\n",
       "      <th>document_id</th>\n",
       "    </tr>\n",
       "  </thead>\n",
       "  <tbody>\n",
       "    <tr>\n",
       "      <th>0</th>\n",
       "      <td>doc_4</td>\n",
       "    </tr>\n",
       "    <tr>\n",
       "      <th>1</th>\n",
       "      <td>doc_1</td>\n",
       "    </tr>\n",
       "    <tr>\n",
       "      <th>2</th>\n",
       "      <td>doc_2</td>\n",
       "    </tr>\n",
       "    <tr>\n",
       "      <th>3</th>\n",
       "      <td>doc_5</td>\n",
       "    </tr>\n",
       "    <tr>\n",
       "      <th>4</th>\n",
       "      <td>doc_3</td>\n",
       "    </tr>\n",
       "  </tbody>\n",
       "</table>\n",
       "</div>"
      ],
      "text/plain": [
       "  document_id\n",
       "0       doc_4\n",
       "1       doc_1\n",
       "2       doc_2\n",
       "3       doc_5\n",
       "4       doc_3"
      ]
     },
     "execution_count": 5,
     "metadata": {},
     "output_type": "execute_result"
    }
   ],
   "source": [
    "# Documents table without duplicates\n",
    "documents_df = pd.DataFrame(df['document_id'].unique(), columns=['document_id'])\n",
    "\n",
    "# Check the quantity of Documents\n",
    "print(f'{len(documents_df)} unique documents\\n')\n",
    "documents_df.head()"
   ]
  },
  {
   "cell_type": "markdown",
   "metadata": {
    "id": "sbo5TM36NUSW"
   },
   "source": [
    "Events table"
   ]
  },
  {
   "cell_type": "code",
   "execution_count": 6,
   "metadata": {
    "colab": {
     "base_uri": "https://localhost:8080/",
     "height": 206
    },
    "id": "uRCYU2r6H40l",
    "outputId": "88d17d7d-70eb-4279-a911-28cf1429d9d0"
   },
   "outputs": [
    {
     "data": {
      "text/html": [
       "<div>\n",
       "<style scoped>\n",
       "    .dataframe tbody tr th:only-of-type {\n",
       "        vertical-align: middle;\n",
       "    }\n",
       "\n",
       "    .dataframe tbody tr th {\n",
       "        vertical-align: top;\n",
       "    }\n",
       "\n",
       "    .dataframe thead th {\n",
       "        text-align: right;\n",
       "    }\n",
       "</style>\n",
       "<table border=\"1\" class=\"dataframe\">\n",
       "  <thead>\n",
       "    <tr style=\"text-align: right;\">\n",
       "      <th></th>\n",
       "      <th>event_id</th>\n",
       "      <th>timestamp</th>\n",
       "      <th>event_type</th>\n",
       "      <th>user_id</th>\n",
       "      <th>document_id</th>\n",
       "      <th>comment_text</th>\n",
       "      <th>shared_with</th>\n",
       "      <th>edit_length</th>\n",
       "    </tr>\n",
       "  </thead>\n",
       "  <tbody>\n",
       "    <tr>\n",
       "      <th>0</th>\n",
       "      <td>47f3543b-8da9-4ff9-ada4-3881d570f76c</td>\n",
       "      <td>2025-05-11 19:26:46.971025</td>\n",
       "      <td>document_shared</td>\n",
       "      <td>user_2</td>\n",
       "      <td>doc_4</td>\n",
       "      <td>NaN</td>\n",
       "      <td>user_5</td>\n",
       "      <td>NaN</td>\n",
       "    </tr>\n",
       "    <tr>\n",
       "      <th>1</th>\n",
       "      <td>572899d5-6e9d-4002-ab0d-b11886db96d3</td>\n",
       "      <td>2025-05-11 19:29:05.971025</td>\n",
       "      <td>document_edit</td>\n",
       "      <td>user_5</td>\n",
       "      <td>doc_5</td>\n",
       "      <td>NaN</td>\n",
       "      <td>NaN</td>\n",
       "      <td>665.0</td>\n",
       "    </tr>\n",
       "    <tr>\n",
       "      <th>2</th>\n",
       "      <td>c801b6d4-c948-42be-83d6-624fc44f4be6</td>\n",
       "      <td>2025-05-11 20:38:21.971025</td>\n",
       "      <td>document_shared</td>\n",
       "      <td>user_2</td>\n",
       "      <td>doc_1</td>\n",
       "      <td>NaN</td>\n",
       "      <td>user_4</td>\n",
       "      <td>NaN</td>\n",
       "    </tr>\n",
       "    <tr>\n",
       "      <th>3</th>\n",
       "      <td>209d307b-c877-46f2-9a93-45e243259f22</td>\n",
       "      <td>2025-05-11 21:31:28.971025</td>\n",
       "      <td>comment_added</td>\n",
       "      <td>user_2</td>\n",
       "      <td>doc_5</td>\n",
       "      <td>Comment 7</td>\n",
       "      <td>NaN</td>\n",
       "      <td>NaN</td>\n",
       "    </tr>\n",
       "    <tr>\n",
       "      <th>4</th>\n",
       "      <td>2a26fc12-9eb4-4878-bad1-b7a094214b45</td>\n",
       "      <td>2025-05-12 00:02:30.971025</td>\n",
       "      <td>user_login</td>\n",
       "      <td>user_7</td>\n",
       "      <td>doc_4</td>\n",
       "      <td>NaN</td>\n",
       "      <td>NaN</td>\n",
       "      <td>NaN</td>\n",
       "    </tr>\n",
       "  </tbody>\n",
       "</table>\n",
       "</div>"
      ],
      "text/plain": [
       "                               event_id                  timestamp  \\\n",
       "0  47f3543b-8da9-4ff9-ada4-3881d570f76c 2025-05-11 19:26:46.971025   \n",
       "1  572899d5-6e9d-4002-ab0d-b11886db96d3 2025-05-11 19:29:05.971025   \n",
       "2  c801b6d4-c948-42be-83d6-624fc44f4be6 2025-05-11 20:38:21.971025   \n",
       "3  209d307b-c877-46f2-9a93-45e243259f22 2025-05-11 21:31:28.971025   \n",
       "4  2a26fc12-9eb4-4878-bad1-b7a094214b45 2025-05-12 00:02:30.971025   \n",
       "\n",
       "        event_type user_id document_id comment_text shared_with  edit_length  \n",
       "0  document_shared  user_2       doc_4          NaN      user_5          NaN  \n",
       "1    document_edit  user_5       doc_5          NaN         NaN        665.0  \n",
       "2  document_shared  user_2       doc_1          NaN      user_4          NaN  \n",
       "3    comment_added  user_2       doc_5    Comment 7         NaN          NaN  \n",
       "4       user_login  user_7       doc_4          NaN         NaN          NaN  "
      ]
     },
     "execution_count": 6,
     "metadata": {},
     "output_type": "execute_result"
    }
   ],
   "source": [
    "# Events table\n",
    "# Make a copy of the original DataFrame to use all the fields\n",
    "events_df = df.copy()\n",
    "\n",
    "# Convert the 'timestamp' column to datetime\n",
    "events_df['timestamp'] = pd.to_datetime(events_df['timestamp'])\n",
    "# Order the rows by timestamp from oldest to newest\n",
    "events_df = events_df.sort_values(by='timestamp').reset_index(drop=True)\n",
    "\n",
    "events_df.head()"
   ]
  },
  {
   "cell_type": "markdown",
   "metadata": {
    "id": "rQiHDRCjKNo9"
   },
   "source": [
    "### Data cleansing and enrichment"
   ]
  },
  {
   "cell_type": "code",
   "execution_count": 7,
   "metadata": {
    "colab": {
     "base_uri": "https://localhost:8080/"
    },
    "id": "oj5sJDcvIOhE",
    "outputId": "63b9cacd-a224-4b0c-b8e0-8fc0d522cdbf"
   },
   "outputs": [
    {
     "name": "stdout",
     "output_type": "stream",
     "text": [
      "Total events: 500\n",
      "Number of events without duplicates: 500\n"
     ]
    }
   ],
   "source": [
    "# Check if there are duplicate events and drop them\n",
    "print(f'Total events: {len(events_df)}')\n",
    "\n",
    "events_df = events_df.drop_duplicates(subset='event_id')\n",
    "print(f'Number of events without duplicates: {len(events_df)}')"
   ]
  },
  {
   "cell_type": "code",
   "execution_count": 8,
   "metadata": {
    "colab": {
     "base_uri": "https://localhost:8080/"
    },
    "id": "iREm3BzQKYxE",
    "outputId": "7028c21e-5c6f-44a0-f957-79bf219643d4"
   },
   "outputs": [
    {
     "name": "stdout",
     "output_type": "stream",
     "text": [
      "Events with issues: 0\n"
     ]
    }
   ],
   "source": [
    "#Events with empty values\n",
    "malformed = events_df[events_df[['event_type', 'user_id', 'document_id']].isnull().any(axis=1)]\n",
    "print(f'Events with issues: {len(malformed)}')"
   ]
  },
  {
   "cell_type": "code",
   "execution_count": 9,
   "metadata": {
    "id": "JQfYpAj8O4Ky"
   },
   "outputs": [],
   "source": [
    "# Dropping malformed events\n",
    "events_df = events_df.dropna(subset=['event_type', 'user_id', 'document_id'])"
   ]
  },
  {
   "cell_type": "markdown",
   "metadata": {
    "id": "yEdGHj-eK04B"
   },
   "source": [
    "### Addition of derived columns"
   ]
  },
  {
   "cell_type": "markdown",
   "metadata": {
    "id": "pkJzxYzmPVpP"
   },
   "source": [
    "Day of week"
   ]
  },
  {
   "cell_type": "code",
   "execution_count": 10,
   "metadata": {
    "colab": {
     "base_uri": "https://localhost:8080/",
     "height": 206
    },
    "id": "mxryM37pKkHO",
    "outputId": "97b14dfe-b88a-4901-de71-1c842c2465d1"
   },
   "outputs": [
    {
     "data": {
      "text/html": [
       "<div>\n",
       "<style scoped>\n",
       "    .dataframe tbody tr th:only-of-type {\n",
       "        vertical-align: middle;\n",
       "    }\n",
       "\n",
       "    .dataframe tbody tr th {\n",
       "        vertical-align: top;\n",
       "    }\n",
       "\n",
       "    .dataframe thead th {\n",
       "        text-align: right;\n",
       "    }\n",
       "</style>\n",
       "<table border=\"1\" class=\"dataframe\">\n",
       "  <thead>\n",
       "    <tr style=\"text-align: right;\">\n",
       "      <th></th>\n",
       "      <th>timestamp</th>\n",
       "      <th>day_of_week</th>\n",
       "    </tr>\n",
       "  </thead>\n",
       "  <tbody>\n",
       "    <tr>\n",
       "      <th>0</th>\n",
       "      <td>2025-05-11 19:26:46.971025</td>\n",
       "      <td>Sunday</td>\n",
       "    </tr>\n",
       "    <tr>\n",
       "      <th>1</th>\n",
       "      <td>2025-05-11 19:29:05.971025</td>\n",
       "      <td>Sunday</td>\n",
       "    </tr>\n",
       "    <tr>\n",
       "      <th>2</th>\n",
       "      <td>2025-05-11 20:38:21.971025</td>\n",
       "      <td>Sunday</td>\n",
       "    </tr>\n",
       "    <tr>\n",
       "      <th>3</th>\n",
       "      <td>2025-05-11 21:31:28.971025</td>\n",
       "      <td>Sunday</td>\n",
       "    </tr>\n",
       "    <tr>\n",
       "      <th>4</th>\n",
       "      <td>2025-05-12 00:02:30.971025</td>\n",
       "      <td>Monday</td>\n",
       "    </tr>\n",
       "  </tbody>\n",
       "</table>\n",
       "</div>"
      ],
      "text/plain": [
       "                   timestamp day_of_week\n",
       "0 2025-05-11 19:26:46.971025      Sunday\n",
       "1 2025-05-11 19:29:05.971025      Sunday\n",
       "2 2025-05-11 20:38:21.971025      Sunday\n",
       "3 2025-05-11 21:31:28.971025      Sunday\n",
       "4 2025-05-12 00:02:30.971025      Monday"
      ]
     },
     "execution_count": 10,
     "metadata": {},
     "output_type": "execute_result"
    }
   ],
   "source": [
    "events_df['day_of_week'] = events_df['timestamp'].dt.day_name()\n",
    "events_df[['timestamp', 'day_of_week']].head()"
   ]
  },
  {
   "cell_type": "markdown",
   "metadata": {
    "id": "ZmcSEM53PaGR"
   },
   "source": [
    "Session duration"
   ]
  },
  {
   "cell_type": "code",
   "execution_count": 11,
   "metadata": {
    "colab": {
     "base_uri": "https://localhost:8080/",
     "height": 206
    },
    "id": "fHP79pcoUwA2",
    "outputId": "b3f30826-229e-4db0-f8e3-4c0a22fee17b"
   },
   "outputs": [
    {
     "data": {
      "text/html": [
       "<div>\n",
       "<style scoped>\n",
       "    .dataframe tbody tr th:only-of-type {\n",
       "        vertical-align: middle;\n",
       "    }\n",
       "\n",
       "    .dataframe tbody tr th {\n",
       "        vertical-align: top;\n",
       "    }\n",
       "\n",
       "    .dataframe thead th {\n",
       "        text-align: right;\n",
       "    }\n",
       "</style>\n",
       "<table border=\"1\" class=\"dataframe\">\n",
       "  <thead>\n",
       "    <tr style=\"text-align: right;\">\n",
       "      <th></th>\n",
       "      <th>event_id</th>\n",
       "      <th>session_duration</th>\n",
       "    </tr>\n",
       "  </thead>\n",
       "  <tbody>\n",
       "    <tr>\n",
       "      <th>0</th>\n",
       "      <td>47f3543b-8da9-4ff9-ada4-3881d570f76c</td>\n",
       "      <td>NaT</td>\n",
       "    </tr>\n",
       "    <tr>\n",
       "      <th>1</th>\n",
       "      <td>572899d5-6e9d-4002-ab0d-b11886db96d3</td>\n",
       "      <td>NaT</td>\n",
       "    </tr>\n",
       "    <tr>\n",
       "      <th>2</th>\n",
       "      <td>c801b6d4-c948-42be-83d6-624fc44f4be6</td>\n",
       "      <td>NaT</td>\n",
       "    </tr>\n",
       "    <tr>\n",
       "      <th>3</th>\n",
       "      <td>209d307b-c877-46f2-9a93-45e243259f22</td>\n",
       "      <td>NaT</td>\n",
       "    </tr>\n",
       "    <tr>\n",
       "      <th>4</th>\n",
       "      <td>2a26fc12-9eb4-4878-bad1-b7a094214b45</td>\n",
       "      <td>0 days 03:06:44</td>\n",
       "    </tr>\n",
       "  </tbody>\n",
       "</table>\n",
       "</div>"
      ],
      "text/plain": [
       "                               event_id session_duration\n",
       "0  47f3543b-8da9-4ff9-ada4-3881d570f76c              NaT\n",
       "1  572899d5-6e9d-4002-ab0d-b11886db96d3              NaT\n",
       "2  c801b6d4-c948-42be-83d6-624fc44f4be6              NaT\n",
       "3  209d307b-c877-46f2-9a93-45e243259f22              NaT\n",
       "4  2a26fc12-9eb4-4878-bad1-b7a094214b45  0 days 03:06:44"
      ]
     },
     "execution_count": 11,
     "metadata": {},
     "output_type": "execute_result"
    }
   ],
   "source": [
    "# Filter login events\n",
    "logins = events_df[events_df['event_type'] == 'user_login'].copy()\n",
    "\n",
    "# Order by user and timestamp\n",
    "logins = logins.sort_values(['user_id', 'timestamp'])\n",
    "\n",
    "# Calculate session duration\n",
    "logins['session_duration'] = logins.groupby('user_id')['timestamp'].diff().shift(-1)\n",
    "\n",
    "# Drop existing session_duration column in events_df (if it exists)\n",
    "events_df = events_df.drop(columns=['session_duration'], errors='ignore')\n",
    "\n",
    "# Merge the session_duration column back into events_df\n",
    "events_df = events_df.merge(logins[['event_id', 'session_duration']], on='event_id', how='left')\n",
    "\n",
    "# Convert session_duration to string\n",
    "events_df['session_duration'] = events_df['session_duration'].astype(str)\n",
    "\n",
    "# Check result\n",
    "events_df[['event_id', 'session_duration']].head()"
   ]
  },
  {
   "cell_type": "markdown",
   "metadata": {
    "id": "UIS0XqsxRPyE"
   },
   "source": [
    "Document word count"
   ]
  },
  {
   "cell_type": "code",
   "execution_count": null,
   "metadata": {
    "colab": {
     "base_uri": "https://localhost:8080/",
     "height": 206
    },
    "id": "Tqsg-mP0LMmV",
    "outputId": "f60dbc7a-468b-4c57-ca9b-88fdc59e7bc4"
   },
   "outputs": [],
   "source": [
    "# Document word count\n",
    "def doc_word_count(edit_length):\n",
    "    if pd.isna(edit_length):\n",
    "        return 0\n",
    "    else:\n",
    "        return int(edit_length)\n",
    "\n",
    "events_df['document_word_count'] = events_df['edit_length'].apply(doc_word_count)\n",
    "\n",
    "# Sort by document_word_count descending, then take top 5 rows\n",
    "events_df[['event_id','event_type','timestamp','document_id','document_word_count']].sort_values(by='document_word_count', ascending=False).head()"
   ]
  },
  {
   "cell_type": "markdown",
   "metadata": {
    "id": "-EGOJ9SbSxn4"
   },
   "source": [
    "Final table sample"
   ]
  },
  {
   "cell_type": "code",
   "execution_count": null,
   "metadata": {
    "colab": {
     "base_uri": "https://localhost:8080/",
     "height": 206
    },
    "id": "IsFK0q3BSiH9",
    "outputId": "85a4a52b-f16a-44c5-b46c-3bca3b4363f3"
   },
   "outputs": [],
   "source": [
    "events_df.head()"
   ]
  },
  {
   "cell_type": "markdown",
   "metadata": {
    "id": "aLz3xH6KMMiD"
   },
   "source": [
    "## Data Storage"
   ]
  },
  {
   "cell_type": "code",
   "execution_count": null,
   "metadata": {
    "colab": {
     "base_uri": "https://localhost:8080/"
    },
    "id": "-4QCqofkLzVz",
    "outputId": "1c95f844-163a-4520-8e08-0f8cdd72993b"
   },
   "outputs": [],
   "source": [
    "# This creates a file-based SQLite database\n",
    "conn = sqlite3.connect('events_data.db')\n",
    "\n",
    "# Create the tables into the db\n",
    "users_df.to_sql('users', conn, if_exists='replace', index=False)\n",
    "documents_df.to_sql('documents', conn, if_exists='replace', index=False)\n",
    "events_df.to_sql('events', conn, if_exists='replace', index=False)\n",
    "\n",
    "print(\"'users', 'documents' and 'events' tables added to the 'events_data.db'\")"
   ]
  },
  {
   "cell_type": "code",
   "execution_count": null,
   "metadata": {
    "colab": {
     "base_uri": "https://localhost:8080/"
    },
    "id": "hbqGC9gEM6qk",
    "outputId": "e1e3bc58-69a4-4b33-b654-6715dd872bef"
   },
   "outputs": [],
   "source": [
    "# Checking that the users table is showing values correctly\n",
    "\n",
    "# Connect to the database\n",
    "conn = sqlite3.connect('events_data.db')\n",
    "\n",
    "# Query to show the unique users\n",
    "query = \"SELECT * FROM users\"\n",
    "df_users = pd.read_sql_query(query, conn)\n",
    "\n",
    "# Show the first 5 users\n",
    "print(df_users.head())"
   ]
  },
  {
   "cell_type": "markdown",
   "metadata": {
    "id": "ZekvZyTAN8TC"
   },
   "source": [
    "## Analytics"
   ]
  },
  {
   "cell_type": "markdown",
   "metadata": {
    "id": "o2VI-NNYOBgp"
   },
   "source": [
    "Daily Active Users over the last 30 days"
   ]
  },
  {
   "cell_type": "code",
   "execution_count": null,
   "metadata": {
    "colab": {
     "base_uri": "https://localhost:8080/",
     "height": 175
    },
    "id": "uHWkaW7JNyEK",
    "outputId": "498e35f1-6ed0-4270-d153-0d7db294568e"
   },
   "outputs": [],
   "source": [
    "query = \"\"\"\n",
    "SELECT\n",
    "    DATE(timestamp) as day,\n",
    "    COUNT(DISTINCT user_id) as daily_active_users\n",
    "FROM events\n",
    "WHERE DATE(timestamp) >= DATE('now', '-30 day')\n",
    "GROUP BY day\n",
    "ORDER BY day DESC\n",
    "\"\"\"\n",
    "pd.read_sql_query(query, conn)"
   ]
  },
  {
   "cell_type": "markdown",
   "metadata": {
    "id": "9CGiLrUmWns0"
   },
   "source": [
    "Average session duration by user (in seconds)"
   ]
  },
  {
   "cell_type": "code",
   "execution_count": null,
   "metadata": {
    "colab": {
     "base_uri": "https://localhost:8080/"
    },
    "id": "9NgZ_rIHWYGz",
    "outputId": "d5331827-e452-4083-d339-0e00f82fcd40"
   },
   "outputs": [],
   "source": [
    "# Convert session_duration to seconds directly (overwrite the column)\n",
    "events_df['session_duration'] = pd.to_timedelta(events_df['session_duration']).dt.total_seconds()\n",
    "\n",
    "# Save to SQLite (this will store session_duration as a float in seconds)\n",
    "events_df.to_sql('events', conn, if_exists='replace', index=False)"
   ]
  },
  {
   "cell_type": "code",
   "execution_count": null,
   "metadata": {
    "colab": {
     "base_uri": "https://localhost:8080/",
     "height": 363
    },
    "id": "JS54MP0BWNLZ",
    "outputId": "3c72ce61-56f5-4410-a178-f47c4740509c"
   },
   "outputs": [],
   "source": [
    "query = \"\"\"\n",
    "SELECT\n",
    "    user_id,\n",
    "    AVG(session_duration) AS avg_session_duration_seconds\n",
    "FROM events\n",
    "WHERE session_duration IS NOT NULL\n",
    "GROUP BY user_id\n",
    "ORDER BY avg_session_duration_seconds DESC\n",
    "LIMIT 10;\n",
    "\"\"\"\n",
    "\n",
    "pd.read_sql_query(query, conn)"
   ]
  },
  {
   "cell_type": "markdown",
   "metadata": {
    "id": "QgCIakJGO1Dd"
   },
   "source": [
    "Top 10 most edited documents"
   ]
  },
  {
   "cell_type": "code",
   "execution_count": null,
   "metadata": {
    "colab": {
     "base_uri": "https://localhost:8080/",
     "height": 206
    },
    "id": "51dvBuyLOWM5",
    "outputId": "3191d4f6-e2b3-4f9a-dc27-aab88daef0a8"
   },
   "outputs": [],
   "source": [
    "query = \"\"\"\n",
    "SELECT\n",
    "    document_id,\n",
    "    COUNT(*) as edit_count\n",
    "FROM events\n",
    "WHERE event_type = 'document_edit'\n",
    "GROUP BY document_id\n",
    "ORDER BY edit_count DESC\n",
    "LIMIT 10\n",
    "\"\"\"\n",
    "pd.read_sql_query(query, conn)"
   ]
  },
  {
   "cell_type": "markdown",
   "metadata": {
    "id": "66JFWrGSO6-5"
   },
   "source": [
    "Number of shared documents per user"
   ]
  },
  {
   "cell_type": "code",
   "execution_count": null,
   "metadata": {
    "colab": {
     "base_uri": "https://localhost:8080/",
     "height": 363
    },
    "id": "npkKlHUTOvWJ",
    "outputId": "c8d46e32-99f1-4eb7-a3ba-cd046fda094c"
   },
   "outputs": [],
   "source": [
    "query = \"\"\"\n",
    "SELECT\n",
    "    user_id,\n",
    "    COUNT(*) as shared_documents\n",
    "FROM events\n",
    "WHERE event_type = 'document_shared'\n",
    "GROUP BY user_id\n",
    "ORDER BY shared_documents DESC\n",
    "\"\"\"\n",
    "pd.read_sql_query(query, conn)\n"
   ]
  }
 ],
 "metadata": {
  "colab": {
   "provenance": []
  },
  "kernelspec": {
   "display_name": "Python 3",
   "language": "python",
   "name": "python3"
  },
  "language_info": {
   "codemirror_mode": {
    "name": "ipython",
    "version": 3
   },
   "file_extension": ".py",
   "mimetype": "text/x-python",
   "name": "python",
   "nbconvert_exporter": "python",
   "pygments_lexer": "ipython3",
   "version": "3.13.5"
  }
 },
 "nbformat": 4,
 "nbformat_minor": 4
}
